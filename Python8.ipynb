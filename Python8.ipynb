{
    "cells": [
        {
            "cell_type": "code",
            "execution_count": 2,
            "source": [
                "def describe_pet(animal_type, pet_name):\r\n",
                "    \"\"\"显示宠物信息\"\"\"\r\n",
                "    print(f\"\\nI have a {animal_type}.\")\r\n",
                "    print(f\"My {animal_type}'s name is {pet_name.title()}.\")\r\n",
                "describe_pet('hamster','harry')\r\n",
                "describe_pet('dog','wille')"
            ],
            "outputs": [
                {
                    "output_type": "stream",
                    "name": "stdout",
                    "text": [
                        "\n",
                        "I have a hamster.\n",
                        "My hamster's name is Harry.\n",
                        "\n",
                        "I have a dog.\n",
                        "My dog's name is Wille.\n"
                    ]
                }
            ],
            "metadata": {}
        },
        {
            "cell_type": "code",
            "execution_count": 3,
            "source": [
                "def describe_pet(pet_name, animal_type='dog'):\r\n",
                "    \"\"\"Display information about a pet.\"\"\"\r\n",
                "    print(f\"\\nI have a {animal_type}.\")\r\n",
                "    print(f\"My {animal_type}'s name is {pet_name.title()}.\")\r\n",
                "    \r\n",
                "describe_pet()"
            ],
            "outputs": [
                {
                    "output_type": "error",
                    "ename": "TypeError",
                    "evalue": "describe_pet() missing 1 required positional argument: 'pet_name'",
                    "traceback": [
                        "\u001b[1;31m---------------------------------------------------------------------------\u001b[0m",
                        "\u001b[1;31mTypeError\u001b[0m                                 Traceback (most recent call last)",
                        "\u001b[1;32m<ipython-input-3-2f1eb5fc2901>\u001b[0m in \u001b[0;36m<module>\u001b[1;34m\u001b[0m\n\u001b[0;32m      4\u001b[0m     \u001b[0mprint\u001b[0m\u001b[1;33m(\u001b[0m\u001b[1;34mf\"My {animal_type}'s name is {pet_name.title()}.\"\u001b[0m\u001b[1;33m)\u001b[0m\u001b[1;33m\u001b[0m\u001b[1;33m\u001b[0m\u001b[0m\n\u001b[0;32m      5\u001b[0m \u001b[1;33m\u001b[0m\u001b[0m\n\u001b[1;32m----> 6\u001b[1;33m \u001b[0mdescribe_pet\u001b[0m\u001b[1;33m(\u001b[0m\u001b[1;33m)\u001b[0m\u001b[1;33m\u001b[0m\u001b[1;33m\u001b[0m\u001b[0m\n\u001b[0m",
                        "\u001b[1;31mTypeError\u001b[0m: describe_pet() missing 1 required positional argument: 'pet_name'"
                    ]
                }
            ],
            "metadata": {}
        },
        {
            "cell_type": "markdown",
            "source": [
                "8-3练习"
            ],
            "metadata": {}
        },
        {
            "cell_type": "code",
            "execution_count": 4,
            "source": [
                "def make_shirt(s_size,s_title):\r\n",
                "    print(f\"\\n 制作 {s_size} 大小，印如下‘ {s_title} ’字样\")\r\n",
                "\r\n",
                "make_shirt('5', 'fuck 无赖')"
            ],
            "outputs": [
                {
                    "output_type": "stream",
                    "name": "stdout",
                    "text": [
                        "\n",
                        " 制作 5 大小，印如下‘ fuck china ’字样\n"
                    ]
                }
            ],
            "metadata": {}
        },
        {
            "cell_type": "markdown",
            "source": [
                "8-4练习"
            ],
            "metadata": {}
        },
        {
            "cell_type": "code",
            "execution_count": 5,
            "source": [
                "def make_shirt(s_size,s_title = \"I love Python\"):\r\n",
                "    print(f\"\\n 制作 {s_size} 大小，印如下‘ {s_title} ’字样\")\r\n",
                "\r\n",
                "make_shirt('大号')\r\n",
                "make_shirt('中号')\r\n",
                "make_shirt('5', s_title='Python is god in program')"
            ],
            "outputs": [
                {
                    "output_type": "stream",
                    "name": "stdout",
                    "text": [
                        "\n",
                        " 制作 大号 大小，印如下‘ I love Python ’字样\n",
                        "\n",
                        " 制作 中号 大小，印如下‘ I love Python ’字样\n",
                        "\n",
                        " 制作 5 大小，印如下‘ Python is god in program ’字样\n"
                    ]
                }
            ],
            "metadata": {}
        },
        {
            "cell_type": "markdown",
            "source": [
                "8-5练习"
            ],
            "metadata": {}
        },
        {
            "cell_type": "code",
            "execution_count": 6,
            "source": [
                "def describe_city(city_name, city_country=\"日本\"):\r\n",
                "    print(f\"\\n {city_name}是在{city_country}.\")\r\n",
                "\r\n",
                "describe_city('tokyo')\r\n",
                "describe_city('大阪')\r\n",
                "describe_city(city_country='美国',city_name='洛杉矶')"
            ],
            "outputs": [
                {
                    "output_type": "stream",
                    "name": "stdout",
                    "text": [
                        "\n",
                        " tokyo是在日本.\n",
                        "\n",
                        " 大阪是在日本.\n",
                        "\n",
                        " 洛杉矶是在美国.\n"
                    ]
                }
            ],
            "metadata": {}
        },
        {
            "cell_type": "markdown",
            "source": [
                "formatted_name.py"
            ],
            "metadata": {}
        },
        {
            "cell_type": "code",
            "execution_count": 9,
            "source": [
                "def get_formatted_name(first_n,last_n):\r\n",
                "    \"\"\"返回整洁的姓名\"\"\"\r\n",
                "    full_name = f\"{first_n} {last_n}\"\r\n",
                "    return full_name.title()\r\n",
                "musician= get_formatted_name('jimi','hendrix')\r\n",
                "print(musician)"
            ],
            "outputs": [
                {
                    "output_type": "stream",
                    "name": "stdout",
                    "text": [
                        "Jimi Hendrix\n"
                    ]
                }
            ],
            "metadata": {}
        },
        {
            "cell_type": "markdown",
            "source": [
                "app 批量删除文件名中指定字符"
            ],
            "metadata": {}
        },
        {
            "cell_type": "code",
            "execution_count": 1,
            "source": [
                "import os\r\n",
                " \r\n",
                "# 输入文件夹地址\r\n",
                "path = r\"Y:\\Video\\TV\\你是我的荣耀\"\r\n",
                "files = os.listdir(path)\r\n",
                " \r\n",
                "# 输出所有文件名，只是为了看一下\r\n",
                "for file in files:\r\n",
                "    print(file)\r\n",
                "\r\n",
                "# 获取旧名和新名\r\n",
                "i = 0\r\n",
                "for file in files:\r\n",
                "    # old 旧名称的信息\r\n",
                "    old = path + os.sep + files[i]\r\n",
                "    # new是新名称的信息，这里的操作是删除了最前面的'考拉很忙o - '共8个字符\r\n",
                "    new = path + os.sep + file.replace('[www.domp4.cc]','')\r\n",
                "    # 新旧替换\r\n",
                "    os.rename(old,new)\r\n",
                "    i+=1"
            ],
            "outputs": [
                {
                    "output_type": "stream",
                    "name": "stdout",
                    "text": [
                        "[www.domp4.cc]你是我的荣耀.第25集.HD1080p.mp4\n",
                        "[www.domp4.cc]你是我的荣耀.第26集.HD1080p.mp4\n",
                        "你是我的荣耀.01.HD1080p.mp4\n",
                        "你是我的荣耀.02.HD1080p.mp4\n",
                        "你是我的荣耀.03.HD1080p.mp4\n",
                        "你是我的荣耀.04.HD1080p.mp4\n",
                        "你是我的荣耀.05.HD1080p.mp4\n",
                        "你是我的荣耀.06.HD1080p.mp4\n",
                        "你是我的荣耀.07.HD1080p.mp4\n",
                        "你是我的荣耀.08.HD1080p.mp4\n",
                        "你是我的荣耀.第10集.HD1080p.mp4\n",
                        "你是我的荣耀.第11集.HD1080p.mp4\n",
                        "你是我的荣耀.第12集.HD1080p.mp4\n",
                        "你是我的荣耀.第13集.HD1080p.mp4\n",
                        "你是我的荣耀.第14集.HD1080p.mp4\n",
                        "你是我的荣耀.第15集.HD1080p.mp4\n",
                        "你是我的荣耀.第16集.HD1080p.mp4\n",
                        "你是我的荣耀.第17集.HD1080p.mp4\n",
                        "你是我的荣耀.第18集.HD1080p.mp4\n",
                        "你是我的荣耀.第19集.HD1080p.mp4\n",
                        "你是我的荣耀.第20集.HD1080p.mp4\n",
                        "你是我的荣耀.第21集.HD1080p.mp4\n",
                        "你是我的荣耀.第22集.HD1080p.mp4\n",
                        "你是我的荣耀.第23集.HD1080p.mp4\n",
                        "你是我的荣耀.第24集.HD1080p.mp4\n",
                        "你是我的荣耀.第9集.HD1080p.mp4\n"
                    ]
                }
            ],
            "metadata": {}
        },
        {
            "cell_type": "markdown",
            "source": [
                "8-9练习"
            ],
            "metadata": {}
        },
        {
            "cell_type": "code",
            "execution_count": 1,
            "source": [
                "def show_messages(messages):\r\n",
                "   for message in messages:\r\n",
                "       print(message) \r\n",
                "\r\n",
                "messages=['123','456','789']\r\n",
                "show_messages(messages)"
            ],
            "outputs": [
                {
                    "output_type": "stream",
                    "name": "stdout",
                    "text": [
                        "123\n",
                        "456\n",
                        "789\n"
                    ]
                }
            ],
            "metadata": {}
        },
        {
            "cell_type": "markdown",
            "source": [
                "8-10练习"
            ],
            "metadata": {}
        },
        {
            "cell_type": "code",
            "execution_count": 9,
            "source": [
                "def show_messages(messages):\r\n",
                "       for message in messages:\r\n",
                "           print(message)\r\n",
                "sent_messages=[]\r\n",
                "\r\n",
                "\r\n",
                "def send_messages(messages):\r\n",
                "    for message in messages:\r\n",
                "        sent_messages.append(message)\r\n",
                "    print(sent_messages)\r\n",
                "\r\n",
                "messages=['123','456','789']\r\n",
                "show_messages(messages)\r\n",
                "send_messages(messages[:])\r\n"
            ],
            "outputs": [
                {
                    "output_type": "stream",
                    "name": "stdout",
                    "text": [
                        "123\n",
                        "456\n",
                        "789\n",
                        "['123', '456', '789']\n"
                    ]
                }
            ],
            "metadata": {}
        },
        {
            "cell_type": "markdown",
            "source": [
                "8-11:消息归档"
            ],
            "metadata": {}
        },
        {
            "cell_type": "code",
            "execution_count": 10,
            "source": [
                "def show_messages(messages):\r\n",
                "       for message in messages:\r\n",
                "           print(message)\r\n",
                "sent_messages=[]\r\n",
                "\r\n",
                "\r\n",
                "def send_messages(messages):\r\n",
                "    for message in messages:\r\n",
                "        sent_messages.append(message)\r\n",
                "    print(sent_messages)\r\n",
                "\r\n",
                "messages=['123','456','789']\r\n",
                "show_messages(messages)\r\n",
                "send_messages(messages[:])\r\n",
                "print(messages)"
            ],
            "outputs": [
                {
                    "output_type": "stream",
                    "name": "stdout",
                    "text": [
                        "123\n",
                        "456\n",
                        "789\n",
                        "['123', '456', '789']\n",
                        "['123', '456', '789']\n"
                    ]
                }
            ],
            "metadata": {}
        },
        {
            "cell_type": "markdown",
            "source": [
                "8.5 传递任意数量的实参"
            ],
            "metadata": {}
        },
        {
            "cell_type": "code",
            "execution_count": 13,
            "source": [
                "def make_pizza(size, *toppings):\r\n",
                "    \"\"\"Summarize the pizza we are about to make.\"\"\"\r\n",
                "    print(f\"\\nMaking a {size}-inch pizza with the following toppings:\")\r\n",
                "    for topping in toppings:\r\n",
                "        print(f\"- {topping}\")\r\n",
                "\r\n",
                "make_pizza(16, 'pepperoni')\r\n",
                "make_pizza(12, 'mushrooms', 'green peppers', 'extra cheese')"
            ],
            "outputs": [
                {
                    "output_type": "stream",
                    "name": "stdout",
                    "text": [
                        "\n",
                        "Making a 16-inch pizza with the following toppings:\n",
                        "- pepperoni\n",
                        "\n",
                        "Making a 12-inch pizza with the following toppings:\n",
                        "- mushrooms\n",
                        "- green peppers\n",
                        "- extra cheese\n"
                    ]
                }
            ],
            "metadata": {}
        },
        {
            "cell_type": "markdown",
            "source": [
                "8-12三明治"
            ],
            "metadata": {}
        },
        {
            "cell_type": "code",
            "execution_count": 17,
            "source": [
                "def make_sandwichs(*toppings):\r\n",
                "    print(\"你的三明治配料是：\")\r\n",
                "    for topping in toppings:\r\n",
                "        print(topping + \"\\n\")\r\n",
                "\r\n",
                "make_sandwichs('香肠')\r\n",
                "make_sandwichs('鸡蛋','奶酪','番茄酱','牛肉')\r\n",
                "make_sandwichs('小番茄','香蕉')\r\n"
            ],
            "outputs": [
                {
                    "output_type": "stream",
                    "name": "stdout",
                    "text": [
                        "你的三明治配料是：\n",
                        "香肠\n",
                        "\n",
                        "你的三明治配料是：\n",
                        "鸡蛋\n",
                        "\n",
                        "奶酪\n",
                        "\n",
                        "番茄酱\n",
                        "\n",
                        "牛肉\n",
                        "\n",
                        "你的三明治配料是：\n",
                        "小番茄\n",
                        "\n",
                        "香蕉\n",
                        "\n"
                    ]
                }
            ],
            "metadata": {}
        },
        {
            "cell_type": "markdown",
            "source": [
                "8-13 用户简介"
            ],
            "metadata": {}
        },
        {
            "cell_type": "code",
            "execution_count": 20,
            "source": [
                "def build_profile(first, last, **user_info):\r\n",
                "    \"\"\"Build a dictionary containing everything we know about a user.\"\"\"\r\n",
                "    user_info['first_name'] = first\r\n",
                "    user_info['last_name'] = last\r\n",
                "    return user_info\r\n",
                "\r\n",
                "user_profile = build_profile('伯阳', '黎',\r\n",
                "                             location='北京',\r\n",
                "                             field='网络应用',\r\n",
                "                             gender='男')\r\n",
                "print(user_profile)\r\n"
            ],
            "outputs": [
                {
                    "output_type": "stream",
                    "name": "stdout",
                    "text": [
                        "{'location': '北京', 'field': '网络应用', 'gender': '男', 'first_name': '伯阳', 'last_name': '黎'}\n"
                    ]
                }
            ],
            "metadata": {}
        },
        {
            "cell_type": "markdown",
            "source": [
                "8-14练习：汽车"
            ],
            "metadata": {}
        },
        {
            "cell_type": "code",
            "execution_count": 8,
            "source": [
                "def make_cars(pinpai,xinghao,**info):\r\n",
                "    cars = {}\r\n",
                "    cars['pinpai']= pinpai\r\n",
                "    cars['xinghao'] = xinghao\r\n",
                "    for k,v in info.items():\r\n",
                "        cars[k]=v\r\n",
                "    return cars\r\n",
                "\r\n",
                "car = make_cars('subaru','outback',color='blue', tow_package=True)\r\n",
                "\r\n",
                "print(car)"
            ],
            "outputs": [
                {
                    "output_type": "stream",
                    "name": "stdout",
                    "text": [
                        "{'pinpai': 'subaru', 'xinghao': 'outback', 'color': 'blue', 'tow_package': True}\n"
                    ]
                }
            ],
            "metadata": {}
        }
    ],
    "metadata": {
        "orig_nbformat": 4,
        "language_info": {
            "name": "python",
            "version": "3.7.3",
            "mimetype": "text/x-python",
            "codemirror_mode": {
                "name": "ipython",
                "version": 3
            },
            "pygments_lexer": "ipython3",
            "nbconvert_exporter": "python",
            "file_extension": ".py"
        },
        "kernelspec": {
            "name": "python3",
            "display_name": "Python 3.7.3 64-bit"
        },
        "interpreter": {
            "hash": "50b697e30c990da37c5d967cc4d301efb74f0d227679fdbb250eed50d6c0a688"
        }
    },
    "nbformat": 4,
    "nbformat_minor": 2
}