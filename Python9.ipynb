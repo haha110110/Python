{
 "cells": [
  {
   "cell_type": "markdown",
   "source": [
    "9.1.1 创建Dog类"
   ],
   "metadata": {}
  },
  {
   "cell_type": "code",
   "execution_count": 4,
   "source": [
    "class Dog:\r\n",
    "    def __init__(self,name,age):\r\n",
    "        self.name=name\r\n",
    "        self.age= age\r\n",
    "\r\n",
    "    def sit(self):\r\n",
    "        print(f\"{self.name} is now sitting.\")\r\n",
    "\r\n",
    "    def roll_over(self):\r\n",
    "        print(f\"{self.name} rolled over!\")\r\n",
    "        \r\n",
    "my_dog = Dog('Willie',6)\r\n",
    "your_dog = Dog('Lucy',3)\r\n",
    "\r\n",
    "print(f\"my dog's name is {my_dog.name}.\")\r\n",
    "print(f\"my dog is {my_dog.age} years old.\")\r\n",
    "my_dog.sit()\r\n",
    "my_dog.roll_over()\r\n",
    "\r\n",
    "print(f\"\\nyour dog's name is {your_dog.name}.\")\r\n",
    "print(f\"your dog is {your_dog.age} years old.\")\r\n",
    "your_dog.sit()\r\n",
    "your_dog.roll_over()\r\n"
   ],
   "outputs": [
    {
     "output_type": "stream",
     "name": "stdout",
     "text": [
      "my dog's name is Willie.\n",
      "my dog is 6 years old.\n",
      "Willie is now sitting.\n",
      "Willie rolled over!\n",
      "\n",
      "your dog's name is Lucy.\n",
      "your dog is 3 years old.\n",
      "Lucy is now sitting.\n",
      "Lucy rolled over!\n"
     ]
    }
   ],
   "metadata": {}
  },
  {
   "cell_type": "markdown",
   "source": [
    "9-1餐馆"
   ],
   "metadata": {}
  },
  {
   "cell_type": "code",
   "execution_count": 8,
   "source": [
    "class Restaurant:\r\n",
    "    def __init__(self,name,type):\r\n",
    "        self.name= name\r\n",
    "        self.type= type\r\n",
    "    def decrible_restaurant(self):\r\n",
    "        print(f\"这个餐馆的名字是：{self.name}。\")\r\n",
    "        print(f\"这个餐馆类型是：{self.type}。\")\r\n",
    "    def open_restaurant(self):\r\n",
    "        print(f\"{self.name}正在营业。\")\r\n",
    "\r\n",
    "A1 = Restaurant('西贝','西北菜')\r\n",
    "A1.decrible_restaurant()\r\n",
    "A1.open_restaurant()\r\n",
    "\r\n",
    "        \r\n",
    "        "
   ],
   "outputs": [
    {
     "output_type": "stream",
     "name": "stdout",
     "text": [
      "这个餐馆的名字是：西贝。\n",
      "这个餐馆类型是：西北菜。\n",
      "西贝正在营业。\n"
     ]
    }
   ],
   "metadata": {}
  },
  {
   "cell_type": "markdown",
   "source": [
    "9-2三家餐馆"
   ],
   "metadata": {}
  },
  {
   "cell_type": "code",
   "execution_count": 9,
   "source": [
    "class Restaurant:\r\n",
    "    def __init__(self,name,type):\r\n",
    "        self.name= name\r\n",
    "        self.type= type\r\n",
    "    def decrible_restaurant(self):\r\n",
    "        print(f\"这个餐馆的名字是：{self.name}。\")\r\n",
    "        print(f\"这个餐馆类型是：{self.type}。\")\r\n",
    "    def open_restaurant(self):\r\n",
    "        print(f\"{self.name}正在营业。\\n\")\r\n",
    "\r\n",
    "A1 = Restaurant('西贝','西北菜')\r\n",
    "A1.decrible_restaurant()\r\n",
    "A1.open_restaurant()\r\n",
    "\r\n",
    "A2 = Restaurant('海底捞','火锅')\r\n",
    "A2.decrible_restaurant()\r\n",
    "A2.open_restaurant()\r\n",
    "\r\n",
    "A3 = Restaurant('马兰拉面','中式快餐')\r\n",
    "A3.decrible_restaurant()\r\n",
    "A3.open_restaurant()\r\n",
    "\r\n"
   ],
   "outputs": [
    {
     "output_type": "stream",
     "name": "stdout",
     "text": [
      "这个餐馆的名字是：西贝。\n",
      "这个餐馆类型是：西北菜。\n",
      "西贝正在营业。\n",
      "\n",
      "这个餐馆的名字是：海底捞。\n",
      "这个餐馆类型是：火锅。\n",
      "海底捞正在营业。\n",
      "\n",
      "这个餐馆的名字是：马兰拉面。\n",
      "这个餐馆类型是：中式快餐。\n",
      "马兰拉面正在营业。\n",
      "\n"
     ]
    }
   ],
   "metadata": {}
  },
  {
   "cell_type": "markdown",
   "source": [
    "9-3用户"
   ],
   "metadata": {}
  },
  {
   "cell_type": "code",
   "execution_count": 26,
   "source": [
    "class User:\r\n",
    "    def __init__(self,first_n,last_n):\r\n",
    "        self.first_n=first_n\r\n",
    "        self.last_n=last_n\r\n",
    "    def greet_user(self):\r\n",
    "        print(f\"hello {self.first_n}{self.last_n}！\")\r\n",
    "\r\n",
    "U1 = User('yang','Li')\r\n",
    "U1.greet_user()\r\n",
    "\r\n",
    "u2 = User('xiao','Hu')\r\n",
    "u2.greet_user()      "
   ],
   "outputs": [
    {
     "output_type": "stream",
     "name": "stdout",
     "text": [
      "hello yangLi！\n",
      "hello xiaoHu！\n"
     ]
    }
   ],
   "metadata": {}
  },
  {
   "cell_type": "markdown",
   "source": [
    "9.2.3修改属性的值"
   ],
   "metadata": {}
  },
  {
   "cell_type": "code",
   "execution_count": 29,
   "source": [
    "class Car:\r\n",
    "    \"\"\"A simple attempt to represent a car.\"\"\"\r\n",
    "\r\n",
    "    def __init__(self, make, model, year):\r\n",
    "        \"\"\"Initialize attributes to describe a car.\"\"\"\r\n",
    "        self.make = make\r\n",
    "        self.model = model\r\n",
    "        self.year = year\r\n",
    "        self.odometer_reading = 0\r\n",
    "        \r\n",
    "    def get_descriptive_name(self):\r\n",
    "        \"\"\"Return a neatly formatted descriptive name.\"\"\"\r\n",
    "        long_name = f\"{self.year} {self.make} {self.model}\"\r\n",
    "        return long_name.title()\r\n",
    "\r\n",
    "    def read_odometer(self):\r\n",
    "        \"\"\"Print a statement showing the car's mileage.\"\"\"\r\n",
    "        print(f\"This car has {self.odometer_reading} miles on it.\")\r\n",
    "\r\n",
    "    def update_odometer(self, mileage):\r\n",
    "        \"\"\"\r\n",
    "        Set the odometer reading to the given value.\r\n",
    "        Reject the change if it attempts to roll the odometer back.\r\n",
    "        \"\"\"\r\n",
    "        if mileage >= self.odometer_reading:\r\n",
    "            self.odometer_reading = mileage\r\n",
    "        else:\r\n",
    "            print(\"You can't roll back an odometer!\")\r\n",
    "\r\n",
    "    def increment_odometer(self, miles):\r\n",
    "        \"\"\"Add the given amount to the odometer reading.\"\"\"\r\n",
    "        self.odometer_reading += miles\r\n",
    "    \r\n",
    "my_used_car = Car('subaru', 'outback', 2015)\r\n",
    "print(my_used_car.get_descriptive_name())\r\n",
    "\r\n",
    "my_used_car.update_odometer(23500)\r\n",
    "my_used_car.read_odometer()\r\n",
    "\r\n",
    "my_used_car.increment_odometer(100)\r\n",
    "my_used_car.read_odometer()\r\n",
    "\r\n",
    "\r\n",
    "\r\n"
   ],
   "outputs": [
    {
     "output_type": "stream",
     "name": "stdout",
     "text": [
      "2015 Subaru Outback\n",
      "This car has 23500 miles on it.\n",
      "This car has 23600 miles on it.\n"
     ]
    }
   ],
   "metadata": {}
  }
 ],
 "metadata": {
  "orig_nbformat": 4,
  "language_info": {
   "name": "python",
   "version": "3.7.3",
   "mimetype": "text/x-python",
   "codemirror_mode": {
    "name": "ipython",
    "version": 3
   },
   "pygments_lexer": "ipython3",
   "nbconvert_exporter": "python",
   "file_extension": ".py"
  },
  "kernelspec": {
   "name": "python3",
   "display_name": "Python 3.7.3 64-bit"
  },
  "interpreter": {
   "hash": "50b697e30c990da37c5d967cc4d301efb74f0d227679fdbb250eed50d6c0a688"
  }
 },
 "nbformat": 4,
 "nbformat_minor": 2
}