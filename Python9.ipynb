{
 "cells": [
  {
   "cell_type": "markdown",
   "source": [
    "9.1.1 创建Dog类"
   ],
   "metadata": {}
  },
  {
   "cell_type": "code",
   "execution_count": 1,
   "source": [
    "class Dog:\r\n",
    "    def __init__(self,name,age):\r\n",
    "        self.name=name\r\n",
    "        self.age= age\r\n",
    "\r\n",
    "    def sit(self):\r\n",
    "        print(f\"{self.name} is now sitting.\")\r\n",
    "\r\n",
    "    def roll_over(self):\r\n",
    "        print(f\"{self.name} rolled over!\")\r\n",
    "        \r\n",
    "my_dog = Dog('Willie',6)\r\n",
    "\r\n",
    "print(f\"my dog's name is {my_dog.name}.\")\r\n",
    "print(f\"my dog is {my_dog.age} years old.\")"
   ],
   "outputs": [
    {
     "output_type": "stream",
     "name": "stdout",
     "text": [
      "my dog's name is Willie.\n",
      "my dog is 6 years old.\n"
     ]
    }
   ],
   "metadata": {}
  }
 ],
 "metadata": {
  "orig_nbformat": 4,
  "language_info": {
   "name": "python",
   "version": "3.7.3",
   "mimetype": "text/x-python",
   "codemirror_mode": {
    "name": "ipython",
    "version": 3
   },
   "pygments_lexer": "ipython3",
   "nbconvert_exporter": "python",
   "file_extension": ".py"
  },
  "kernelspec": {
   "name": "python3",
   "display_name": "Python 3.7.3 64-bit"
  },
  "interpreter": {
   "hash": "50b697e30c990da37c5d967cc4d301efb74f0d227679fdbb250eed50d6c0a688"
  }
 },
 "nbformat": 4,
 "nbformat_minor": 2
}