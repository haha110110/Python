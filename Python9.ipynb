{
 "cells": [
  {
   "cell_type": "markdown",
   "metadata": {},
   "source": [
    "9.1.1 创建Dog类"
   ]
  },
  {
   "cell_type": "code",
   "execution_count": 1,
   "metadata": {},
   "outputs": [
    {
     "name": "stdout",
     "output_type": "stream",
     "text": [
      "my dog's name is Willie.\n",
      "my dog is 6 years old.\n",
      "Willie is now sitting.\n",
      "Willie rolled over!\n",
      "\n",
      "your dog's name is Lucy.\n",
      "your dog is 3 years old.\n",
      "Lucy is now sitting.\n",
      "Lucy rolled over!\n"
     ]
    }
   ],
   "source": [
    "class Dog:\n",
    "    def __init__(self,name,age):\n",
    "        self.name=name\n",
    "        self.age= age\n",
    "\n",
    "    def sit(self):\n",
    "        print(f\"{self.name} is now sitting.\")\n",
    "\n",
    "    def roll_over(self):\n",
    "        print(f\"{self.name} rolled over!\")\n",
    "        \n",
    "my_dog = Dog('Willie',6)\n",
    "your_dog = Dog('Lucy',3)\n",
    "\n",
    "print(f\"my dog's name is {my_dog.name}.\")\n",
    "print(f\"my dog is {my_dog.age} years old.\")\n",
    "my_dog.sit()\n",
    "my_dog.roll_over()\n",
    "\n",
    "print(f\"\\nyour dog's name is {your_dog.name}.\")\n",
    "print(f\"your dog is {your_dog.age} years old.\")\n",
    "your_dog.sit()\n",
    "your_dog.roll_over()\n",
    "class Cat:\n",
    "    def __init__(self,name,age):\n",
    "        self.name=name\n",
    "        self.age= age\n",
    "\n",
    "    def sit(self):\n",
    "        print(f\"{self.name} is now sitting.\")\n",
    "\n",
    "    def roll_over(self):\n",
    "        print(f\"{self.name} rolled over!\")"
   ]
  },
  {
   "cell_type": "markdown",
   "metadata": {},
   "source": [
    "9-1餐馆"
   ]
  },
  {
   "cell_type": "code",
   "execution_count": 8,
   "metadata": {},
   "outputs": [
    {
     "name": "stdout",
     "output_type": "stream",
     "text": [
      "这个餐馆的名字是：西贝。\n",
      "这个餐馆类型是：西北菜。\n",
      "西贝正在营业。\n"
     ]
    }
   ],
   "source": [
    "class Restaurant:\n",
    "    def __init__(self,name,type):\n",
    "        self.name= name\n",
    "        self.type= type\n",
    "    def decrible_restaurant(self):\n",
    "        print(f\"这个餐馆的名字是：{self.name}。\")\n",
    "        print(f\"这个餐馆类型是：{self.type}。\")\n",
    "    def open_restaurant(self):\n",
    "        print(f\"{self.name}正在营业。\")\n",
    "\n",
    "A1 = Restaurant('西贝','西北菜')\n",
    "A1.decrible_restaurant()\n",
    "A1.open_restaurant()\n",
    "\n",
    "        \n",
    "        "
   ]
  },
  {
   "cell_type": "markdown",
   "metadata": {},
   "source": [
    "9-2三家餐馆"
   ]
  },
  {
   "cell_type": "code",
   "execution_count": 9,
   "metadata": {},
   "outputs": [
    {
     "name": "stdout",
     "output_type": "stream",
     "text": [
      "这个餐馆的名字是：西贝。\n",
      "这个餐馆类型是：西北菜。\n",
      "西贝正在营业。\n",
      "\n",
      "这个餐馆的名字是：海底捞。\n",
      "这个餐馆类型是：火锅。\n",
      "海底捞正在营业。\n",
      "\n",
      "这个餐馆的名字是：马兰拉面。\n",
      "这个餐馆类型是：中式快餐。\n",
      "马兰拉面正在营业。\n",
      "\n"
     ]
    }
   ],
   "source": [
    "class Restaurant:\n",
    "    def __init__(self,name,type):\n",
    "        self.name= name\n",
    "        self.type= type\n",
    "    def decrible_restaurant(self):\n",
    "        print(f\"这个餐馆的名字是：{self.name}。\")\n",
    "        print(f\"这个餐馆类型是：{self.type}。\")\n",
    "    def open_restaurant(self):\n",
    "        print(f\"{self.name}正在营业。\\n\")\n",
    "\n",
    "A1 = Restaurant('西贝','西北菜')\n",
    "A1.decrible_restaurant()\n",
    "A1.open_restaurant()\n",
    "\n",
    "A2 = Restaurant('海底捞','火锅')\n",
    "A2.decrible_restaurant()\n",
    "A2.open_restaurant()\n",
    "\n",
    "A3 = Restaurant('马兰拉面','中式快餐')\n",
    "A3.decrible_restaurant()\n",
    "A3.open_restaurant()\n",
    "\n"
   ]
  },
  {
   "cell_type": "markdown",
   "metadata": {},
   "source": [
    "9-3用户"
   ]
  },
  {
   "cell_type": "code",
   "execution_count": 26,
   "metadata": {},
   "outputs": [
    {
     "name": "stdout",
     "output_type": "stream",
     "text": [
      "hello yangLi！\n",
      "hello xiaoHu！\n"
     ]
    }
   ],
   "source": [
    "class User:\n",
    "    def __init__(self,first_n,last_n):\n",
    "        self.first_n=first_n\n",
    "        self.last_n=last_n\n",
    "    def greet_user(self):\n",
    "        print(f\"hello {self.first_n}{self.last_n}！\")\n",
    "\n",
    "U1 = User('yang','Li')\n",
    "U1.greet_user()\n",
    "\n",
    "u2 = User('xiao','Hu')\n",
    "u2.greet_user()      "
   ]
  },
  {
   "cell_type": "markdown",
   "metadata": {},
   "source": [
    "9.2.3修改属性的值"
   ]
  },
  {
   "cell_type": "code",
   "execution_count": 29,
   "metadata": {},
   "outputs": [
    {
     "name": "stdout",
     "output_type": "stream",
     "text": [
      "2015 Subaru Outback\n",
      "This car has 23500 miles on it.\n",
      "This car has 23600 miles on it.\n"
     ]
    }
   ],
   "source": [
    "class Car:\n",
    "    \"\"\"A simple attempt to represent a car.\"\"\"\n",
    "\n",
    "    def __init__(self, make, model, year):\n",
    "        \"\"\"Initialize attributes to describe a car.\"\"\"\n",
    "        self.make = make\n",
    "        self.model = model\n",
    "        self.year = year\n",
    "        self.odometer_reading = 0\n",
    "        \n",
    "    def get_descriptive_name(self):\n",
    "        \"\"\"Return a neatly formatted descriptive name.\"\"\"\n",
    "        long_name = f\"{self.year} {self.make} {self.model}\"\n",
    "        return long_name.title()\n",
    "\n",
    "    def read_odometer(self):\n",
    "        \"\"\"Print a statement showing the car's mileage.\"\"\"\n",
    "        print(f\"This car has {self.odometer_reading} miles on it.\")\n",
    "\n",
    "    def update_odometer(self, mileage):\n",
    "        \"\"\"\n",
    "        Set the odometer reading to the given value.\n",
    "        Reject the change if it attempts to roll the odometer back.\n",
    "        \"\"\"\n",
    "        if mileage >= self.odometer_reading:\n",
    "            self.odometer_reading = mileage\n",
    "        else:\n",
    "            print(\"You can't roll back an odometer!\")\n",
    "\n",
    "    def increment_odometer(self, miles):\n",
    "        \"\"\"Add the given amount to the odometer reading.\"\"\"\n",
    "        self.odometer_reading += miles\n",
    "    \n",
    "my_used_car = Car('subaru', 'outback', 2015)\n",
    "print(my_used_car.get_descriptive_name())\n",
    "\n",
    "my_used_car.update_odometer(23500)\n",
    "my_used_car.read_odometer()\n",
    "\n",
    "my_used_car.increment_odometer(100)\n",
    "my_used_car.read_odometer()\n",
    "\n",
    "\n",
    "\n"
   ]
  }
 ],
 "metadata": {
  "interpreter": {
   "hash": "50b697e30c990da37c5d967cc4d301efb74f0d227679fdbb250eed50d6c0a688"
  },
  "kernelspec": {
   "display_name": "Python 3.7.3 64-bit",
   "name": "python3"
  },
  "language_info": {
   "codemirror_mode": {
    "name": "ipython",
    "version": 3
   },
   "file_extension": ".py",
   "mimetype": "text/x-python",
   "name": "python",
   "nbconvert_exporter": "python",
   "pygments_lexer": "ipython3",
   "version": "3.11.2"
  },
  "orig_nbformat": 4
 },
 "nbformat": 4,
 "nbformat_minor": 2
}
