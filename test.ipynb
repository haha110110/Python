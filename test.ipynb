{
 "cells": [
  {
   "cell_type": "code",
   "execution_count": 1,
   "metadata": {},
   "outputs": [
    {
     "name": "stdout",
     "output_type": "stream",
     "text": [
      "6\n"
     ]
    }
   ],
   "source": [
    "def sds(a1,a2,a3):\n",
    "    return a1+a2+a3\n",
    "sds(1,2,3)\n",
    "print(sds(1,2,3))"
   ]
  },
  {
   "cell_type": "code",
   "execution_count": null,
   "metadata": {},
   "outputs": [],
   "source": [
    "#定义一个函数，实现一个输入两个数字，并将两个数相除，然后返回结果。\n",
    "def sds(a1,a2):\n",
    "    return a1/a2\n",
    "sds(1,2)\n",
    "print(sds(1,2))"
   ]
  },
  {
   "cell_type": "code",
   "execution_count": 1,
   "metadata": {},
   "outputs": [
    {
     "name": "stdout",
     "output_type": "stream",
     "text": [
      "{'type': 'dog', 'name': 'xiaoming'}\n",
      "{'type': 'cat', 'name': 'xiaohong'}\n",
      "{'type': 'pig', 'name': 'xiaohua'}\n"
     ]
    }
   ],
   "source": [
    "#创建多个表示宠物的字典，每个字典都包含宠物的类型及其主人的名字。将这些字典存储在一个名为pets的列表中，再遍历该列表，并将宠物的所有信息都打印出来。\n",
    "pets = []\n",
    "pets.append({'type':'dog','name':'xiaoming'})\n",
    "pets.append({'type':'cat','name':'xiaohong'})\n",
    "pets.append({'type':'pig','name':'xiaohua'})\n",
    "for pet in pets:\n",
    "    print(pet)\n",
    "    "
   ]
  },
  {
   "cell_type": "code",
   "execution_count": 3,
   "metadata": {},
   "outputs": [
    {
     "name": "stdout",
     "output_type": "stream",
     "text": [
      "hello.py\n",
      "Pythonscript\n",
      "Pythontest.ipynb\n",
      ".DS_Store\n",
      "printing_models.py\n",
      "pizza.py\n",
      "__pycache__\n",
      "readme\n",
      "printing_functions.py\n",
      "Python9.ipynb\n",
      "applications\n",
      ".ipynb_checkpoints\n",
      "python.ipynb\n",
      ".git\n",
      ".vscode\n",
      "make_pizzas.py\n",
      "test.ipynb\n",
      "Python8.ipynb\n"
     ]
    }
   ],
   "source": [
    "#读取mac os指定文件夹下的所有文件名，存入列表中，并按照每行一个文件名的方式打印出来。\n",
    "import os\n",
    "path = '/Users/liboyang/Python'\n",
    "files = os.listdir(path)\n",
    "for file in files:\n",
    "    print(file)\n",
    "\n",
    "\n"
   ]
  },
  {
   "cell_type": "code",
   "execution_count": 4,
   "metadata": {},
   "outputs": [
    {
     "name": "stdout",
     "output_type": "stream",
     "text": [
      "3\n"
     ]
    }
   ],
   "source": [
    "#定义一个函数，随机生成一个数值，数值介于1-9之间，然后将该数值返回。然后打印出该数值。\n",
    "import random\n",
    "def sds():\n",
    "    return random.randint(1,9)\n",
    "print(sds())\n"
   ]
  },
  {
   "cell_type": "code",
   "execution_count": 5,
   "metadata": {},
   "outputs": [
    {
     "name": "stdout",
     "output_type": "stream",
     "text": [
      "2023-03-24 23:44:52\n",
      "2023-03-24 23:44:52\n"
     ]
    }
   ],
   "source": [
    "#显示本地电脑时间。\n",
    "import time\n",
    "print(time.strftime('%Y-%m-%d %H:%M:%S',time.localtime(time.time())))\n",
    "#显示本地电脑时间，格式为：2019-01-01 12:00:00\n"
   ]
  },
  {
   "cell_type": "code",
   "execution_count": 1,
   "metadata": {},
   "outputs": [
    {
     "name": "stdout",
     "output_type": "stream",
     "text": [
      "\n",
      "Key: username\n",
      "Value: efermi\n",
      "\n",
      "Key: first\n",
      "Value: enrico\n",
      "\n",
      "Key: last\n",
      "Value: fermi\n"
     ]
    }
   ],
   "source": [
    "user_0 = {\n",
    "    'username': 'efermi',\n",
    "    'first': 'enrico',\n",
    "    'last': 'fermi',\n",
    "    }\n",
    "\n",
    "for key, value in user_0.items():\n",
    "    print(f\"\\nKey: {key}\")\n",
    "    print(f\"Value: {value}\")"
   ]
  },
  {
   "cell_type": "code",
   "execution_count": 2,
   "metadata": {},
   "outputs": [
    {
     "name": "stdout",
     "output_type": "stream",
     "text": [
      "Python\n",
      "C\n",
      "Rust\n",
      "Python\n"
     ]
    }
   ],
   "source": [
    "favorite_languages = {\n",
    "    'jen': 'python',\n",
    "    'sarah': 'c',\n",
    "    'edward': 'rust',\n",
    "    'phil': 'python',\n",
    "    }\n",
    "for language in favorite_languages.values():\n",
    "    print(language.title())"
   ]
  },
  {
   "cell_type": "code",
   "execution_count": 8,
   "metadata": {},
   "outputs": [
    {
     "name": "stdout",
     "output_type": "stream",
     "text": [
      "willie is sitting now.\n",
      "willie is rolling over now.\n"
     ]
    }
   ],
   "source": [
    "class Dog():\n",
    "    def __init__(self, name, age):\n",
    "        self.name = name\n",
    "        self.age = age\n",
    "    def sit(self):\n",
    "        print(f\"{self.name} is sitting now.\")\n",
    "    def roll_over(self):\n",
    "        print(f\"{self.name} is rolling over now.\")\n",
    "\n",
    "my_dog = Dog('willie',6)\n",
    "my_dog.sit()\n",
    "my_dog.roll_over()"
   ]
  },
  {
   "cell_type": "code",
   "execution_count": 15,
   "metadata": {},
   "outputs": [
    {
     "data": {
      "text/plain": [
       "4"
      ]
     },
     "execution_count": 15,
     "metadata": {},
     "output_type": "execute_result"
    }
   ],
   "source": [
    "from random import randint\n",
    "randint(1,9)\n"
   ]
  },
  {
   "cell_type": "code",
   "execution_count": 16,
   "metadata": {},
   "outputs": [
    {
     "data": {
      "text/plain": [
       "'martina'"
      ]
     },
     "execution_count": 16,
     "metadata": {},
     "output_type": "execute_result"
    }
   ],
   "source": [
    "from random import choice\n",
    "players = ['charles', 'martina', 'michael', 'florence', 'eli']\n",
    "first_up = choice(players)\n",
    "first_up"
   ]
  },
  {
   "cell_type": "code",
   "execution_count": 21,
   "metadata": {},
   "outputs": [
    {
     "name": "stdout",
     "output_type": "stream",
     "text": [
      "6\n"
     ]
    }
   ],
   "source": [
    "class Die():\n",
    "    def __init__(self, sides=6):\n",
    "        self.sides = sides\n",
    "    def roll_die(self):\n",
    "        return randint(1,self.sides)\n",
    "        \n",
    "die = Die()\n",
    "print(die.roll_die())"
   ]
  },
  {
   "cell_type": "code",
   "execution_count": 46,
   "metadata": {},
   "outputs": [
    {
     "name": "stdout",
     "output_type": "stream",
     "text": [
      "9\n"
     ]
    }
   ],
   "source": [
    "from random import randint\n",
    "class Die():\n",
    "    def __init__(self, sides=10):\n",
    "        self.sides = sides\n",
    "    def roll_die(self):\n",
    "        return randint(1,self.sides)\n",
    "die=Die()\n",
    "print(die.roll_die())"
   ]
  }
 ],
 "metadata": {
  "kernelspec": {
   "display_name": "Python 3",
   "language": "python",
   "name": "python3"
  },
  "language_info": {
   "codemirror_mode": {
    "name": "ipython",
    "version": 3
   },
   "file_extension": ".py",
   "mimetype": "text/x-python",
   "name": "python",
   "nbconvert_exporter": "python",
   "pygments_lexer": "ipython3",
   "version": "3.11.2"
  },
  "orig_nbformat": 4
 },
 "nbformat": 4,
 "nbformat_minor": 2
}
