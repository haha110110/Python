{
 "metadata": {
  "language_info": {
   "codemirror_mode": {
    "name": "ipython",
    "version": 3
   },
   "file_extension": ".py",
   "mimetype": "text/x-python",
   "name": "python",
   "nbconvert_exporter": "python",
   "pygments_lexer": "ipython3",
   "version": "3.7.3-final"
  },
  "orig_nbformat": 2,
  "kernelspec": {
   "name": "Python 3.7.3 64-bit",
   "display_name": "Python 3.7.3 64-bit",
   "metadata": {
    "interpreter": {
     "hash": "50b697e30c990da37c5d967cc4d301efb74f0d227679fdbb250eed50d6c0a688"
    }
   }
  }
 },
 "nbformat": 4,
 "nbformat_minor": 2,
 "cells": [
  {
   "cell_type": "code",
   "execution_count": 1,
   "metadata": {},
   "outputs": [
    {
     "output_type": "error",
     "ename": "TypeError",
     "evalue": "describe_pet() missing 2 required positional arguments: &#39;pet_name&#39; and &#39;animal_type&#39;",
     "traceback": [
      "\u001b[1;31m---------------------------------------------------------------------------\u001b[0m",
      "\u001b[1;31mTypeError\u001b[0m                                 Traceback (most recent call last)",
      "\u001b[1;32m&lt;ipython-input-1-4174121f1829&gt;\u001b[0m in \u001b[0;36m&lt;module&gt;\u001b[1;34m\u001b[0m\n\u001b[0;32m      2\u001b[0m     \u001b[0mprint\u001b[0m\u001b[1;33m(\u001b[0m\u001b[1;34m&quot;\\nI have a &quot;\u001b[0m \u001b[1;33m+\u001b[0m \u001b[0manimal_type\u001b[0m \u001b[1;33m+\u001b[0m \u001b[1;34m&quot;.&quot;\u001b[0m\u001b[1;33m)\u001b[0m\u001b[1;33m\u001b[0m\u001b[1;33m\u001b[0m\u001b[0m\n\u001b[0;32m      3\u001b[0m     \u001b[0mprint\u001b[0m\u001b[1;33m(\u001b[0m\u001b[1;34m&quot;my &quot;\u001b[0m \u001b[1;33m+\u001b[0m \u001b[0manimal_type\u001b[0m \u001b[1;33m+\u001b[0m \u001b[1;34m&quot;&#39;s name is &quot;\u001b[0m \u001b[1;33m+\u001b[0m \u001b[0mpet_name\u001b[0m\u001b[1;33m.\u001b[0m\u001b[0mtitle\u001b[0m\u001b[1;33m(\u001b[0m\u001b[1;33m)\u001b[0m \u001b[1;33m+\u001b[0m \u001b[1;34m&quot;.&quot;\u001b[0m\u001b[1;33m)\u001b[0m\u001b[1;33m\u001b[0m\u001b[1;33m\u001b[0m\u001b[0m\n\u001b[1;32m----&gt; 4\u001b[1;33m \u001b[0mdescribe_pet\u001b[0m\u001b[1;33m(\u001b[0m\u001b[1;33m)\u001b[0m\u001b[1;33m\u001b[0m\u001b[1;33m\u001b[0m\u001b[0m\n\u001b[0m",
      "\u001b[1;31mTypeError\u001b[0m: describe_pet() missing 2 required positional arguments: &#39;pet_name&#39; and &#39;animal_type&#39;"
     ]
    }
   ],
   "source": [
    "def describe_pet(pet_name, animal_type):\n",
    "    print(\"\\nI have a \" + animal_type + \".\")\n",
    "    print(\"my \" + animal_type + \"'s name is \" + pet_name.title() + \".\")\n",
    "describe_pet()"
   ]
  },
  {
   "cell_type": "code",
   "execution_count": 6,
   "metadata": {
    "tags": []
   },
   "outputs": [
    {
     "output_type": "stream",
     "name": "stdout",
     "text": "the shirt size is large and the style is I love Python.\nthe shirt size is medium and the style is I love Python.\nthe shirt size is small and the style is hello the world.\n"
    }
   ],
   "source": [
    "def make_shirt(a1,b1=\"I love Python\"):\n",
    "    print(\"the shirt size is \" + a1 +\" and \" + \"the style is \" + b1 + \".\" )\n",
    "make_shirt(a1='large')\n",
    "make_shirt(a1='medium')\n",
    "make_shirt('small','hello the world')\n"
   ]
  },
  {
   "cell_type": "code",
   "execution_count": 7,
   "metadata": {
    "tags": []
   },
   "outputs": [
    {
     "output_type": "stream",
     "name": "stdout",
     "text": "beijing is in china\ntianjin is in china\ntokyo is in Japan\n"
    }
   ],
   "source": [
    "def describe_city(city,country=\"china\"):\n",
    "    print(city + \" is in \" + country)\n",
    "describe_city(\"beijing\")\n",
    "describe_city(\"tianjin\")\n",
    "describe_city(city=\"tokyo\",country=\"Japan\")\n"
   ]
  },
  {
   "cell_type": "code",
   "execution_count": 16,
   "metadata": {
    "tags": []
   },
   "outputs": [
    {
     "output_type": "stream",
     "name": "stdout",
     "text": "Jimi Haha Hooker\nJimi Hooker\n"
    }
   ],
   "source": [
    "def get_formatted_name(first_name, last_name, middle_name=''):\n",
    "    if middle_name:\n",
    "        full_name = first_name + \" \" + middle_name + \" \" + last_name\n",
    "    else:\n",
    "        full_name = first_name + ' ' + last_name\n",
    "    return full_name.title()\n",
    "musician = get_formatted_name('jimi','hooker','haha')\n",
    "print(musician)\n",
    "musician = get_formatted_name('jimi','hooker')\n",
    "print(musician)"
   ]
  },
  {
   "cell_type": "code",
   "execution_count": 3,
   "metadata": {
    "tags": []
   },
   "outputs": [
    {
     "output_type": "stream",
     "name": "stdout",
     "text": "{&#39;first&#39;: &#39;jimi&#39;, &#39;last&#39;: &#39;hendrix&#39;, &#39;age&#39;: 27}\n"
    }
   ],
   "source": [
    "def build_person(first_name, last_name, age=''):\n",
    "    person = {'first':first_name, 'last':last_name}\n",
    "    if age:\n",
    "        person['age']=age\n",
    "    return person\n",
    "musician = build_person('jimi','hendrix', age=27)\n",
    "\n",
    "print(musician)"
   ]
  },
  {
   "cell_type": "code",
   "execution_count": 9,
   "metadata": {
    "tags": []
   },
   "outputs": [
    {
     "output_type": "stream",
     "name": "stdout",
     "text": "Beijing,China\n\n---------------------\n\nTianjin,China\n\n---------------------\n\nTokyo,Japan\n\n---------------------\n\n"
    }
   ],
   "source": [
    "def city_country(city,country):\n",
    "    aa = city + \",\" + country\n",
    "    return aa.title()\n",
    "cc= city_country(\"beijing\",\"china\")\n",
    "print(cc)\n",
    "print(\"\\n---------------------\\n\")\n",
    "cc= city_country(\"Tianjin\",\"china\")\n",
    "print(cc)\n",
    "print(\"\\n---------------------\\n\")\n",
    "cc= city_country(\"tokyo\",\"japan\")\n",
    "print(cc)\n",
    "print(\"\\n---------------------\\n\")\n"
   ]
  },
  {
   "source": [
    "def make_album(p_n,a_n,count=''):\n",
    "    if count:\n",
    "        aaa = {\"player\":p_n,\"album\":a_n,\"number\":count}\n",
    "    else:\n",
    "        aaa = {\"player\":p_n.title(),\"album\":a_n.title()}\n",
    "    return aaa\n",
    "\n",
    "ccc= make_album(\"a1\",\"aa\")\n",
    "print(ccc)\n",
    "print(\"\\n-----------------\\n\")\n",
    "ccc= make_album(\"b1\",\"bb\")\n",
    "print(ccc)\n",
    "print(\"\\n-----------------\\n\")\n",
    "ccc= make_album(\"c1\",\"cc\",\"8\")\n",
    "print(ccc)\n",
    "print(\"\\n-----------------\\n\")"
   ],
   "cell_type": "code",
   "metadata": {
    "tags": []
   },
   "execution_count": 13,
   "outputs": [
    {
     "output_type": "stream",
     "name": "stdout",
     "text": "{&#39;player&#39;: &#39;A1&#39;, &#39;album&#39;: &#39;Aa&#39;}\n\n-----------------\n\n{&#39;player&#39;: &#39;B1&#39;, &#39;album&#39;: &#39;Bb&#39;}\n\n-----------------\n\n{&#39;player&#39;: &#39;c1&#39;, &#39;album&#39;: &#39;cc&#39;, &#39;number&#39;: &#39;8&#39;}\n\n-----------------\n\n"
    }
   ]
  },
  {
   "cell_type": "code",
   "execution_count": 1,
   "metadata": {
    "tags": []
   },
   "outputs": [
    {
     "output_type": "stream",
     "name": "stdout",
     "text": "pringting model: dodecahedron\npringting model: robot pendant\npringting model: iphone case\n\nThe following models have been printed:\ndodecahedron\nrobot pendant\niphone case\n"
    }
   ],
   "source": [
    "unprinted_designs= ['iphone case', 'robot pendant', 'dodecahedron']\n",
    "completed_models = []\n",
    "\n",
    "while unprinted_designs:\n",
    "    current_design = unprinted_designs.pop()\n",
    "    print(\"pringting model: \" + current_design)\n",
    "    completed_models.append(current_design)\n",
    "print(\"\\nThe following models have been printed:\")\n",
    "for completed_model in completed_models:\n",
    "    print(completed_model)"
   ]
  },
  {
   "cell_type": "code",
   "execution_count": 14,
   "metadata": {
    "tags": []
   },
   "outputs": [
    {
     "output_type": "error",
     "ename": "SyntaxError",
     "evalue": "invalid syntax (&lt;ipython-input-14-296cc023e8d3&gt;, line 3)",
     "traceback": [
      "\u001b[1;36m  File \u001b[1;32m&quot;&lt;ipython-input-14-296cc023e8d3&gt;&quot;\u001b[1;36m, line \u001b[1;32m3\u001b[0m\n\u001b[1;33m    def print_models(unprinted_designs[1:2] , completed_models):\u001b[0m\n\u001b[1;37m                                      ^\u001b[0m\n\u001b[1;31mSyntaxError\u001b[0m\u001b[1;31m:\u001b[0m invalid syntax\n"
     ]
    }
   ],
   "source": [
    "unprinted_designs= ['iphone case', 'robot pendant', 'dodecahedron']\n",
    "completed_models = []\n",
    "def print_models(unprinted_designs[1:2] , completed_models):\n",
    "    while unprinted_designs:\n",
    "        current_design = unprinted_designs.pop()\n",
    "        print(\"pringting model: \" + current_design)\n",
    "        completed_models.append(current_design)\n",
    "def show_completed_models(completed_models):\n",
    "    print(\"\\nThe following models have been printed:\")\n",
    "    for completed_model in completed_models:\n",
    "        print(completed_model)\n",
    "\n",
    "print_models(unprinted_designs,completed_models)\n",
    "show_completed_models(completed_models)\n",
    "print(unprinted_designs)"
   ]
  },
  {
   "source": [
    "def show_magicians(magicians):\n",
    "    for magician in magicians:\n",
    "        print(magician)\n",
    "        \n",
    "def make_great(magicians):\n",
    "    number = 0\n",
    "    for magician in magicians:\n",
    "        magicians[number]=\"the great:\" + magician\n",
    "        number +=1\n",
    "        \n",
    "magicians = [\"a1\",\"a2\",\"a3\",\"a4\"]\n",
    "great_magicians = make_great(magicians[:])\n",
    "\n",
    "show_magicians(magicians)\n"
   ],
   "cell_type": "code",
   "metadata": {
    "tags": []
   },
   "execution_count": 1,
   "outputs": [
    {
     "output_type": "error",
     "ename": "MemoryError",
     "evalue": "",
     "traceback": [
      "\u001b[1;31m---------------------------------------------------------------------------\u001b[0m",
      "\u001b[1;31mMemoryError\u001b[0m                               Traceback (most recent call last)",
      "\u001b[1;32m&lt;ipython-input-1-27bff7d7a7e3&gt;\u001b[0m in \u001b[0;36m&lt;module&gt;\u001b[1;34m\u001b[0m\n\u001b[0;32m     13\u001b[0m \u001b[1;33m\u001b[0m\u001b[0m\n\u001b[0;32m     14\u001b[0m \u001b[1;33m\u001b[0m\u001b[0m\n\u001b[1;32m---&gt; 15\u001b[1;33m \u001b[0mmake_great\u001b[0m\u001b[1;33m(\u001b[0m\u001b[0mmagicians\u001b[0m\u001b[1;33m)\u001b[0m\u001b[1;33m\u001b[0m\u001b[1;33m\u001b[0m\u001b[0m\n\u001b[0m\u001b[0;32m     16\u001b[0m \u001b[0mshow_magicians\u001b[0m\u001b[1;33m(\u001b[0m\u001b[0mmagicians\u001b[0m\u001b[1;33m)\u001b[0m\u001b[1;33m\u001b[0m\u001b[1;33m\u001b[0m\u001b[0m\n",
      "\u001b[1;32m&lt;ipython-input-1-27bff7d7a7e3&gt;\u001b[0m in \u001b[0;36mmake_great\u001b[1;34m(magicians)\u001b[0m\n\u001b[0;32m      7\u001b[0m     \u001b[1;32mfor\u001b[0m \u001b[0mm_g\u001b[0m \u001b[1;32min\u001b[0m \u001b[0mmagicians\u001b[0m\u001b[1;33m:\u001b[0m\u001b[1;33m\u001b[0m\u001b[1;33m\u001b[0m\u001b[0m\n\u001b[0;32m      8\u001b[0m \u001b[1;33m\u001b[0m\u001b[0m\n\u001b[1;32m----&gt; 9\u001b[1;33m         \u001b[0mmagicians\u001b[0m\u001b[1;33m.\u001b[0m\u001b[0mappend\u001b[0m\u001b[1;33m(\u001b[0m\u001b[1;34m&quot;the great:&quot;\u001b[0m \u001b[1;33m+\u001b[0m \u001b[0mm_g\u001b[0m\u001b[1;33m)\u001b[0m\u001b[1;33m\u001b[0m\u001b[1;33m\u001b[0m\u001b[0m\n\u001b[0m\u001b[0;32m     10\u001b[0m \u001b[1;33m\u001b[0m\u001b[0m\n\u001b[0;32m     11\u001b[0m \u001b[0mmagicians\u001b[0m \u001b[1;33m=\u001b[0m \u001b[1;33m[\u001b[0m\u001b[1;34m&quot;a1&quot;\u001b[0m\u001b[1;33m,\u001b[0m\u001b[1;34m&quot;a2&quot;\u001b[0m\u001b[1;33m,\u001b[0m\u001b[1;34m&quot;a3&quot;\u001b[0m\u001b[1;33m,\u001b[0m\u001b[1;34m&quot;a4&quot;\u001b[0m\u001b[1;33m]\u001b[0m\u001b[1;33m\u001b[0m\u001b[1;33m\u001b[0m\u001b[0m\n",
      "\u001b[1;31mMemoryError\u001b[0m: "
     ]
    }
   ]
  },
  {
   "cell_type": "code",
   "execution_count": 1,
   "metadata": {},
   "outputs": [
    {
     "output_type": "stream",
     "name": "stdout",
     "text": [
      "('pepperoni',)\n('mushrooms', 'green peppers', 'extra cheese')\n"
     ]
    }
   ],
   "source": [
    "def make_pizza(*toppings):\n",
    "    print (toppings)\n",
    "\n",
    "make_pizza('pepperoni')\n",
    "make_pizza('mushrooms','green peppers','extra cheese')"
   ]
  },
  {
   "cell_type": "code",
   "execution_count": 2,
   "metadata": {},
   "outputs": [
    {
     "output_type": "stream",
     "name": "stdout",
     "text": [
      "\nMaking a pizza with the following toppings:\n- pepperoni\n\nMaking a pizza with the following toppings:\n- mushrooms\n- green peppers\n- extra cheese\n"
     ]
    }
   ],
   "source": [
    "def make_pizza(*toppings):\n",
    "    print (\"\\nMaking a pizza with the following toppings:\")\n",
    "    for topping in toppings:\n",
    "        print(\"- \" + topping)\n",
    "\n",
    "make_pizza('pepperoni')\n",
    "make_pizza('mushrooms','green peppers','extra cheese')"
   ]
  },
  {
   "cell_type": "code",
   "execution_count": 3,
   "metadata": {},
   "outputs": [
    {
     "output_type": "stream",
     "name": "stdout",
     "text": [
      "\nMaking a 16-inch pizza with the following toppings:\n- pepperoni\n\nMaking a 12-inch pizza with the following toppings:\n- mushrooms\n- green peppers\n- extra cheese\n"
     ]
    }
   ],
   "source": [
    "def make_pizza(size, *toppings):\n",
    "    print (\"\\nMaking a \" + str(size) + \"-inch pizza with the following toppings:\")\n",
    "    for topping in toppings:\n",
    "        print(\"- \" + topping)\n",
    "\n",
    "make_pizza(16,'pepperoni')\n",
    "make_pizza(12,'mushrooms','green peppers','extra cheese')"
   ]
  },
  {
   "cell_type": "code",
   "execution_count": null,
   "metadata": {},
   "outputs": [],
   "source": []
  }
 ]
}