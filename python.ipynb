{
 "metadata": {
  "language_info": {
   "codemirror_mode": {
    "name": "ipython",
    "version": 3
   },
   "file_extension": ".py",
   "mimetype": "text/x-python",
   "name": "python",
   "nbconvert_exporter": "python",
   "pygments_lexer": "ipython3",
   "version": "3.7.3"
  },
  "orig_nbformat": 2,
  "kernelspec": {
   "name": "python3",
   "display_name": "Python 3.7.3 64-bit"
  },
  "interpreter": {
   "hash": "50b697e30c990da37c5d967cc4d301efb74f0d227679fdbb250eed50d6c0a688"
  }
 },
 "nbformat": 4,
 "nbformat_minor": 2,
 "cells": [
  {
   "cell_type": "code",
   "execution_count": 1,
   "source": [
    "def describe_pet(pet_name, animal_type):\n",
    "    print(\"\\nI have a \" + animal_type + \".\")\n",
    "    print(\"my \" + animal_type + \"'s name is \" + pet_name.title() + \".\")\n",
    "describe_pet()"
   ],
   "outputs": [
    {
     "output_type": "error",
     "ename": "TypeError",
     "evalue": "describe_pet() missing 2 required positional arguments: 'pet_name' and 'animal_type'",
     "traceback": [
      "\u001b[1;31m---------------------------------------------------------------------------\u001b[0m",
      "\u001b[1;31mTypeError\u001b[0m                                 Traceback (most recent call last)",
      "\u001b[1;32m<ipython-input-1-4174121f1829>\u001b[0m in \u001b[0;36m<module>\u001b[1;34m\u001b[0m\n\u001b[0;32m      2\u001b[0m     \u001b[0mprint\u001b[0m\u001b[1;33m(\u001b[0m\u001b[1;34m\"\\nI have a \"\u001b[0m \u001b[1;33m+\u001b[0m \u001b[0manimal_type\u001b[0m \u001b[1;33m+\u001b[0m \u001b[1;34m\".\"\u001b[0m\u001b[1;33m)\u001b[0m\u001b[1;33m\u001b[0m\u001b[1;33m\u001b[0m\u001b[0m\n\u001b[0;32m      3\u001b[0m     \u001b[0mprint\u001b[0m\u001b[1;33m(\u001b[0m\u001b[1;34m\"my \"\u001b[0m \u001b[1;33m+\u001b[0m \u001b[0manimal_type\u001b[0m \u001b[1;33m+\u001b[0m \u001b[1;34m\"'s name is \"\u001b[0m \u001b[1;33m+\u001b[0m \u001b[0mpet_name\u001b[0m\u001b[1;33m.\u001b[0m\u001b[0mtitle\u001b[0m\u001b[1;33m(\u001b[0m\u001b[1;33m)\u001b[0m \u001b[1;33m+\u001b[0m \u001b[1;34m\".\"\u001b[0m\u001b[1;33m)\u001b[0m\u001b[1;33m\u001b[0m\u001b[1;33m\u001b[0m\u001b[0m\n\u001b[1;32m----> 4\u001b[1;33m \u001b[0mdescribe_pet\u001b[0m\u001b[1;33m(\u001b[0m\u001b[1;33m)\u001b[0m\u001b[1;33m\u001b[0m\u001b[1;33m\u001b[0m\u001b[0m\n\u001b[0m",
      "\u001b[1;31mTypeError\u001b[0m: describe_pet() missing 2 required positional arguments: 'pet_name' and 'animal_type'"
     ]
    }
   ],
   "metadata": {}
  },
  {
   "cell_type": "code",
   "execution_count": null,
   "source": [
    "def make_shirt(a1,b1=\"I love Python\"):\n",
    "    print(\"the shirt size is \" + a1 +\" and \" + \"the style is \" + b1 + \".\" )\n",
    "make_shirt(a1='large')\n",
    "make_shirt(a1='medium')\n",
    "make_shirt('small','hello the world')\n"
   ],
   "outputs": [],
   "metadata": {
    "tags": []
   }
  },
  {
   "cell_type": "code",
   "execution_count": null,
   "source": [
    "def describe_city(city,country=\"china\"):\n",
    "    print(city + \" is in \" + country)\n",
    "describe_city(\"beijing\")\n",
    "describe_city(\"tianjin\")\n",
    "describe_city(city=\"tokyo\",country=\"Japan\")\n"
   ],
   "outputs": [],
   "metadata": {
    "tags": []
   }
  },
  {
   "cell_type": "code",
   "execution_count": null,
   "source": [
    "def get_formatted_name(first_name, last_name, middle_name=''):\n",
    "    if middle_name:\n",
    "        full_name = first_name + \" \" + middle_name + \" \" + last_name\n",
    "    else:\n",
    "        full_name = first_name + ' ' + last_name\n",
    "    return full_name.title()\n",
    "musician = get_formatted_name('jimi','hooker','haha')\n",
    "print(musician)\n",
    "musician = get_formatted_name('jimi','hooker')\n",
    "print(musician)"
   ],
   "outputs": [],
   "metadata": {
    "tags": []
   }
  },
  {
   "cell_type": "code",
   "execution_count": null,
   "source": [
    "def build_person(first_name, last_name, age=''):\n",
    "    person = {'first':first_name, 'last':last_name}\n",
    "    if age:\n",
    "        person['age']=age\n",
    "    return person\n",
    "musician = build_person('jimi','hendrix', age=27)\n",
    "\n",
    "print(musician)"
   ],
   "outputs": [],
   "metadata": {
    "tags": []
   }
  },
  {
   "cell_type": "code",
   "execution_count": null,
   "source": [
    "def city_country(city,country):\n",
    "    aa = city + \",\" + country\n",
    "    return aa.title()\n",
    "cc= city_country(\"beijing\",\"china\")\n",
    "print(cc)\n",
    "print(\"\\n---------------------\\n\")\n",
    "cc= city_country(\"Tianjin\",\"china\")\n",
    "print(cc)\n",
    "print(\"\\n---------------------\\n\")\n",
    "cc= city_country(\"tokyo\",\"japan\")\n",
    "print(cc)\n",
    "print(\"\\n---------------------\\n\")\n"
   ],
   "outputs": [],
   "metadata": {
    "tags": []
   }
  },
  {
   "cell_type": "code",
   "execution_count": null,
   "source": [
    "def make_album(p_n,a_n,count=''):\n",
    "    if count:\n",
    "        aaa = {\"player\":p_n,\"album\":a_n,\"number\":count}\n",
    "    else:\n",
    "        aaa = {\"player\":p_n.title(),\"album\":a_n.title()}\n",
    "    return aaa\n",
    "\n",
    "ccc= make_album(\"a1\",\"aa\")\n",
    "print(ccc)\n",
    "print(\"\\n-----------------\\n\")\n",
    "ccc= make_album(\"b1\",\"bb\")\n",
    "print(ccc)\n",
    "print(\"\\n-----------------\\n\")\n",
    "ccc= make_album(\"c1\",\"cc\",\"8\")\n",
    "print(ccc)\n",
    "print(\"\\n-----------------\\n\")"
   ],
   "outputs": [],
   "metadata": {
    "tags": []
   }
  },
  {
   "cell_type": "code",
   "execution_count": null,
   "source": [
    "unprinted_designs= ['iphone case', 'robot pendant', 'dodecahedron']\n",
    "completed_models = []\n",
    "\n",
    "while unprinted_designs:\n",
    "    current_design = unprinted_designs.pop()\n",
    "    print(\"pringting model: \" + current_design)\n",
    "    completed_models.append(current_design)\n",
    "print(\"\\nThe following models have been printed:\")\n",
    "for completed_model in completed_models:\n",
    "    print(completed_model)"
   ],
   "outputs": [],
   "metadata": {
    "tags": []
   }
  },
  {
   "cell_type": "code",
   "execution_count": null,
   "source": [
    "unprinted_designs= ['iphone case', 'robot pendant', 'dodecahedron']\n",
    "completed_models = []\n",
    "def print_models(unprinted_designs[1:2] , completed_models):\n",
    "    while unprinted_designs:\n",
    "        current_design = unprinted_designs.pop()\n",
    "        print(\"pringting model: \" + current_design)\n",
    "        completed_models.append(current_design)\n",
    "def show_completed_models(completed_models):\n",
    "    print(\"\\nThe following models have been printed:\")\n",
    "    for completed_model in completed_models:\n",
    "        print(completed_model)\n",
    "\n",
    "print_models(unprinted_designs,completed_models)\n",
    "show_completed_models(completed_models)\n",
    "print(unprinted_designs)"
   ],
   "outputs": [],
   "metadata": {
    "tags": []
   }
  },
  {
   "cell_type": "code",
   "execution_count": null,
   "source": [
    "def show_magicians(magicians):\n",
    "    for magician in magicians:\n",
    "        print(magician)\n",
    "        \n",
    "def make_great(magicians):\n",
    "    number = 0\n",
    "    for magician in magicians:\n",
    "        magicians[number]=\"the great:\" + magician\n",
    "        number +=1\n",
    "        \n",
    "magicians = [\"a1\",\"a2\",\"a3\",\"a4\"]\n",
    "great_magicians = make_great(magicians[:])\n",
    "\n",
    "show_magicians(magicians)\n"
   ],
   "outputs": [],
   "metadata": {
    "tags": []
   }
  },
  {
   "cell_type": "code",
   "execution_count": null,
   "source": [
    "def make_pizza(*toppings):\n",
    "    print (toppings)\n",
    "\n",
    "make_pizza('pepperoni')\n",
    "make_pizza('mushrooms','green peppers','extra cheese')"
   ],
   "outputs": [],
   "metadata": {}
  },
  {
   "cell_type": "code",
   "execution_count": null,
   "source": [
    "def make_pizza(*toppings):\r\n",
    "    print (\"\\nMaking a pizza with the following toppings:\")\r\n",
    "    for topping in toppings:\r\n",
    "        print(\"- \" + topping)\r\n",
    "\r\n",
    "make_pizza('pepperoni')\r\n",
    "make_pizza('mushrooms','green peppers','extra cheese')"
   ],
   "outputs": [],
   "metadata": {}
  },
  {
   "cell_type": "code",
   "execution_count": null,
   "source": [
    "def make_pizza(size, *toppings):\r\n",
    "    print (\"\\nMaking a \" + str(size) + \"-inch pizza with the following toppings:\")\r\n",
    "    for topping in toppings:\r\n",
    "        print(\"- \" + topping)\r\n",
    "\r\n",
    "make_pizza(16,'pepperoni')\r\n",
    "make_pizza(12,'mushrooms','green peppers','extra cheese')"
   ],
   "outputs": [],
   "metadata": {}
  },
  {
   "cell_type": "code",
   "execution_count": null,
   "source": [
    "pets = ['dog','cat','dog','goldfish','cat','rabbit','cat']\r\n",
    "print(pets)\r\n",
    "\r\n",
    "while 'cat' in pets:\r\n",
    "    pets.remove('cat')\r\n",
    "\r\n",
    "print(pets)"
   ],
   "outputs": [],
   "metadata": {}
  },
  {
   "cell_type": "code",
   "execution_count": 2,
   "source": [
    "responses={}\r\n",
    "\r\n",
    "polling_active = True\r\n",
    "while polling_active:\r\n",
    "    name = input(\"\\nWhat is your name?\")\r\n",
    "    response = input(\"Which mountain would you like to climb someday?\")\r\n",
    "\r\n",
    "    responses[name]=response\r\n",
    "    repeat = input(\"Would you like to let another person respond? (yes/no)\")\r\n",
    "    if repeat =='no':\r\n",
    "        polling_active = False\r\n",
    "        print(responses)\r\n",
    "print(\"\\n--- Poll Result ---\")\r\n",
    "for name, response in responses.items():\r\n",
    "    print(f\"{name} would like to climb {response}.\")\r\n"
   ],
   "outputs": [
    {
     "output_type": "stream",
     "name": "stdout",
     "text": [
      "{'AA': 'Am'}\n",
      "\n",
      "--- Poll Result ---\n",
      "AA would like to climb Am.\n"
     ]
    }
   ],
   "metadata": {}
  },
  {
   "cell_type": "code",
   "execution_count": 1,
   "source": [
    "#练习8-1\r\n",
    "def display_message():\r\n",
    "    print(\"I learned hanshu in this chapter.\")\r\n",
    "display_message()"
   ],
   "outputs": [
    {
     "output_type": "stream",
     "name": "stdout",
     "text": [
      "I learned hanshu in this chapter.\n"
     ]
    }
   ],
   "metadata": {}
  }
 ]
}