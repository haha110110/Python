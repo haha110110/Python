{
 "cells": [
  {
   "cell_type": "code",
   "execution_count": 3,
   "metadata": {},
   "outputs": [
    {
     "name": "stdout",
     "output_type": "stream",
     "text": [
      "给 益阳青龙洲大桥 增加了 1 票。\n"
     ]
    }
   ],
   "source": [
    "import random\n",
    "import pymysql\n",
    "\n",
    "def update_ballot(name):\n",
    "  \"\"\"随机增加票数。\n",
    "\n",
    "  Args:\n",
    "    name: 姓名。\n",
    "\n",
    "  Returns:\n",
    "    True 表示成功，False 表示失败。\n",
    "  \"\"\"\n",
    "  # 连接数据库。\n",
    "  conn = pymysql.connect(host=\"rm-hp30yyfd12f8023s8fo.mysql.huhehaote.rds.aliyuncs.com\", port=3306, user=\"\", password=\"\", database=\"\")\n",
    "\n",
    "  # 执行查询。\n",
    "  cursor = conn.cursor()\n",
    "  cursor.execute(\"update w_br_activity_cha set F_ballot = F_ballot + %s where F_name = %s\", (random.randint(1, 2), name))\n",
    "\n",
    "  # 提交事务。\n",
    "  conn.commit()\n",
    "\n",
    "  # 关闭连接。\n",
    "  conn.close()\n",
    "\n",
    "  return True\n",
    "\n",
    "\n",
    "if __name__ == \"__main__\":\n",
    "  # 姓名。\n",
    "  name = \"桥\"\n",
    "\n",
    "  # 增加票数。\n",
    "  success = update_ballot(name)\n",
    "\n",
    "  if success:\n",
    "    print(f\"给 {name} 增加了 1 票。\")\n",
    "  else:\n",
    "    print(f\"给 {name} 增加票数失败。\")"
   ]
  }
 ],
 "metadata": {
  "kernelspec": {
   "display_name": "Python 3",
   "language": "python",
   "name": "python3"
  },
  "language_info": {
   "codemirror_mode": {
    "name": "ipython",
    "version": 3
   },
   "file_extension": ".py",
   "mimetype": "text/x-python",
   "name": "python",
   "nbconvert_exporter": "python",
   "pygments_lexer": "ipython3",
   "version": "3.11.2"
  },
  "orig_nbformat": 2
 },
 "nbformat": 4,
 "nbformat_minor": 2
}
